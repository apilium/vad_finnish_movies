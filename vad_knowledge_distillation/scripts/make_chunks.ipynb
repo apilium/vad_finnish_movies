{
 "cells": [
  {
   "cell_type": "code",
   "execution_count": 1,
   "metadata": {},
   "outputs": [
    {
     "name": "stdout",
     "output_type": "stream",
     "text": [
      "Defaulting to user installation because normal site-packages is not writeable\n",
      "Requirement already satisfied: pydub in /home/gunaya1/.local/lib/python3.9/site-packages (0.25.1)\n"
     ]
    }
   ],
   "source": [
    "import os\n",
    "!pip install pydub\n",
    "\n",
    "from pydub import AudioSegment\n",
    "from pydub.utils import make_chunks"
   ]
  },
  {
   "cell_type": "code",
   "execution_count": 5,
   "metadata": {},
   "outputs": [
    {
     "name": "stdout",
     "output_type": "stream",
     "text": [
      "100455-Heirillumarei-1954.wav 4724.006875\n",
      "107883-PoikaEliKesaansa-1955.wav 4690.10575\n",
      "115715-KaikkienNaistenMonni-1952.wav 4840.1066875\n",
      "115770-RatavartijanKaunisInkeri-1950.wav 5063.087875\n",
      "115777-TaasTyttoKadoksissa-1957.wav 3918.0886875\n",
      "115808-VaapelinKauhu-1957.wav 4111.093\n",
      "115810-Ylijaamanainen-1951.wav 4372.1085\n"
     ]
    }
   ],
   "source": [
    "total_duration = 0\n",
    "for i in sorted(os.listdir())[:10]:\n",
    "    if i[-3:] == 'wav':\n",
    "        audio = AudioSegment.from_file(i, 'wav')\n",
    "        \n",
    "        print(i, audio.duration_seconds)\n",
    "        total_duration +=audio.duration_seconds"
   ]
  },
  {
   "cell_type": "code",
   "execution_count": 26,
   "metadata": {},
   "outputs": [],
   "source": [
    "for movie in os.listdir():\n",
    "    if movie[-3:] == 'wav':\n",
    "        myaudio = AudioSegment.from_file(movie , \"wav\") \n",
    "        chunk_length_ms = 1000 # pydub calculates in millisec\n",
    "        chunks = make_chunks(myaudio, chunk_length_ms) #Make chunks of one sec\n",
    "\n",
    "        #Export all of the individual chunks as wav files\n",
    "\n",
    "        for i, chunk in enumerate(chunks[:-1]):\n",
    "            chunk_name = \"chunk{0}.wav\".format(i)\n",
    "            #print (\"exporting\", chunk_name)\n",
    "            chunk.export('../Datadriven-VAD/data/balanced/' + movie[:6] + chunk_name, format=\"wav\")"
   ]
  }
 ],
 "metadata": {
  "kernelspec": {
   "display_name": "Python (module anaconda)",
   "language": "python",
   "name": "python3"
  },
  "language_info": {
   "codemirror_mode": {
    "name": "ipython",
    "version": 3
   },
   "file_extension": ".py",
   "mimetype": "text/x-python",
   "name": "python",
   "nbconvert_exporter": "python",
   "pygments_lexer": "ipython3",
   "version": "3.9.13"
  }
 },
 "nbformat": 4,
 "nbformat_minor": 4
}
